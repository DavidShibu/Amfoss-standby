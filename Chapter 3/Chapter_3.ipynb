{
  "nbformat": 4,
  "nbformat_minor": 0,
  "metadata": {
    "colab": {
      "provenance": []
    },
    "kernelspec": {
      "name": "python3",
      "display_name": "Python 3"
    },
    "language_info": {
      "name": "python"
    }
  },
  "cells": [
    {
      "cell_type": "code",
      "source": [
        "def collatz(number):\n",
        "  if number%2==0:\n",
        "    x=number//2\n",
        "  else:\n",
        "    x=3*number+1\n",
        "  print(x)\n",
        "  if x!=1:\n",
        "   collatz(x)\n",
        "x=int(input())\n",
        "collatz(x)"
      ],
      "metadata": {
        "colab": {
          "base_uri": "https://localhost:8080/"
        },
        "id": "85YaBTPhexlN",
        "outputId": "325ee230-c3c2-4b95-eb8a-211d5f961c58"
      },
      "execution_count": null,
      "outputs": [
        {
          "output_type": "stream",
          "name": "stdout",
          "text": [
            "3\n",
            "10\n",
            "5\n",
            "16\n",
            "8\n",
            "4\n",
            "2\n",
            "1\n"
          ]
        }
      ]
    },
    {
      "cell_type": "code",
      "source": [
        "import sys\n",
        "def collatz(number):\n",
        "  if number%2==0:\n",
        "    x=number//2\n",
        "  else:\n",
        "    x=3*number+1\n",
        "  print(x)\n",
        "  if x!=1:\n",
        "   collatz(x)\n",
        "try:\n",
        "  x=int(input())\n",
        "except ValueError:\n",
        "  print(\"Enter integer only\")\n",
        "  sys.exit()\n",
        "collatz(x)"
      ],
      "metadata": {
        "colab": {
          "base_uri": "https://localhost:8080/"
        },
        "id": "woLy2xDzwtFB",
        "outputId": "3f18e932-546c-4e2d-ba48-5614c91033a9"
      },
      "execution_count": null,
      "outputs": [
        {
          "output_type": "stream",
          "name": "stdout",
          "text": [
            "5\n",
            "16\n",
            "8\n",
            "4\n",
            "2\n",
            "1\n"
          ]
        }
      ]
    }
  ]
}