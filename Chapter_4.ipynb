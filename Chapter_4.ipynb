{
  "nbformat": 4,
  "nbformat_minor": 0,
  "metadata": {
    "colab": {
      "provenance": []
    },
    "kernelspec": {
      "name": "python3",
      "display_name": "Python 3"
    },
    "language_info": {
      "name": "python"
    }
  },
  "cells": [
    {
      "cell_type": "code",
      "source": [
        "def comma(a):\n",
        "  print(\"'\",end=\"\")\n",
        "  for i in range(len(a)-1):\n",
        "    print(a[i],\",\",end=\"\")\n",
        "  print(\"and\",a[len(a)-1],\"'\")\n",
        "a=['rt','ui','io','po','lk']\n",
        "comma(a)"
      ],
      "metadata": {
        "id": "O7jedYo4yKBw",
        "colab": {
          "base_uri": "https://localhost:8080/"
        },
        "outputId": "6aa00199-5c76-4328-84c7-4b32e502602b"
      },
      "execution_count": null,
      "outputs": [
        {
          "output_type": "stream",
          "name": "stdout",
          "text": [
            "'rt ,ui ,io ,po ,and lk '\n"
          ]
        }
      ]
    },
    {
      "cell_type": "code",
      "source": [
        "grid = [['.', '.', '.', '.', '.', '.'],\n",
        "        ['.', 'O', 'O', '.', '.', '.'],\n",
        "        ['O', 'O', 'O', 'O', '.', '.'],\n",
        "        ['O', 'O', 'O', 'O', 'O', '.'],\n",
        "        ['.', 'O', 'O', 'O', 'O', 'O'],\n",
        "        ['O', 'O', 'O', 'O', 'O', '.'],\n",
        "        ['O', 'O', 'O', 'O', '.', '.'],\n",
        "        ['.', 'O', 'O', '.', '.', '.'],\n",
        "        ['.', '.', '.', '.', '.', '.']]\n",
        "\n",
        "for i in range(6):\n",
        "  for j in range(9):\n",
        "    print(grid[j][i],end=\"\")\n",
        "  print()"
      ],
      "metadata": {
        "colab": {
          "base_uri": "https://localhost:8080/"
        },
        "id": "Sm0qzJJiE8U3",
        "outputId": "d0ab66cd-ca89-4d3d-bd5e-6362454d4014"
      },
      "execution_count": null,
      "outputs": [
        {
          "output_type": "stream",
          "name": "stdout",
          "text": [
            "..OO.OO..\n",
            ".OOOOOOO.\n",
            ".OOOOOOO.\n",
            "..OOOOO..\n",
            "...OOO...\n",
            "....O....\n"
          ]
        }
      ]
    },
    {
      "cell_type": "code",
      "source": [
        "import random\n",
        "numberOfStreaks = 0\n",
        "for experimentNumber in range(10000):\n",
        "  l=[]\n",
        "  for j in range(100):\n",
        "    x=random.randint(0,1)\n",
        "    l.append(x)\n",
        "  for i in range(0,95,6):\n",
        "    if l[i]==l[i+1]==l[i+2]==l[i+3]==l[i+4]==l[i+5]==0 or l[i]==l[i+1]==l[i+2]==l[i+3]==l[i+4]==l[i+5]==1 or l[i]==l[i+1]==l[i+2]==l[i+3]==l[i+4]==l[i-1]==1 or l[i]==l[i+1]==l[i+2]==l[i+3]==l[i+4]==l[i-1]==0 or  l[i]==l[i+1]==l[i+2]==l[i+3]==l[i-1]==l[i-2]==1 or l[i]==l[i+1]==l[i+2]==l[i+3]==l[i-1]==l[i-2]==0 or l[i]==l[i+1]==l[i+2]==l[i-1]==l[i-2]==l[i-3]==1 or l[i]==l[i+1]==l[i+2]==l[i-1]==l[i-2]==l[i-3]==0 or l[i]==l[i+1]==l[i-1]==l[i-2]==l[i-3]==l[i-4]==1 or l[i]==l[i+1]==l[i-1]==l[i-2]==l[i-3]==l[i-4]==0:\n",
        "      numberOfStreaks+=1\n",
        "print(numberOfStreaks / (100*95))"
      ],
      "metadata": {
        "colab": {
          "base_uri": "https://localhost:8080/"
        },
        "id": "iLeQDcgJVz_1",
        "outputId": "77444cf4-d177-45ca-d309-8802c9f48e12"
      },
      "execution_count": null,
      "outputs": [
        {
          "output_type": "stream",
          "name": "stdout",
          "text": [
            "1.579578947368421\n"
          ]
        }
      ]
    }
  ]
}